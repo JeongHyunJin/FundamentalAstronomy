{
 "cells": [
  {
   "cell_type": "markdown",
   "metadata": {},
   "source": [
    "This is an essential guide to learn a python programming with basic exercises.\n",
    "You can run a code cell using \"Shift\" + \"Enter\" keys or pressing the button \"Cell\" -> \"Run Cells\" in Jupyter Notebook (https://jupyter.org/)."
   ]
  },
  {
   "cell_type": "code",
   "execution_count": 1,
   "metadata": {},
   "outputs": [
    {
     "name": "stdout",
     "output_type": "stream",
     "text": [
      "Hello\n"
     ]
    }
   ],
   "source": [
    "print(\"Hello\")"
   ]
  },
  {
   "cell_type": "markdown",
   "metadata": {},
   "source": [
    "-------------------------------\n",
    "Python Arithmetic Operators"
   ]
  },
  {
   "cell_type": "code",
   "execution_count": 2,
   "metadata": {},
   "outputs": [
    {
     "name": "stdout",
     "output_type": "stream",
     "text": [
      "2+3  =  7\n",
      "2*3  =  10\n",
      "2/3  =  0.4\n",
      "2**3 =  32\n",
      "2%3  =  2\n",
      "2//3 =  0\n"
     ]
    }
   ],
   "source": [
    "print(\"2+5  = \", 2+5 )\n",
    "print(\"2*5  = \", 2*5 )\n",
    "print(\"2/5  = \", 2/5 )\n",
    "print(\"2**5 = \", 2**5)\n",
    "print(\"2%5  = \", 2%5)\n",
    "print(\"2//5 = \", 2//5)"
   ]
  },
  {
   "cell_type": "markdown",
   "metadata": {},
   "source": [
    "-----------------------------\n",
    "Python Assignment Operators"
   ]
  },
  {
   "cell_type": "code",
   "execution_count": 3,
   "metadata": {},
   "outputs": [
    {
     "name": "stdout",
     "output_type": "stream",
     "text": [
      "a =  3\n",
      "a =  5\n",
      "a =  10\n",
      "a =  20\n"
     ]
    }
   ],
   "source": [
    "a = 3\n",
    "print(\"a = \", a)\n",
    "\n",
    "a = a + 2\n",
    "print(\"a = \", a)\n",
    "\n",
    "a += 5\n",
    "print(\"a = \", a)\n",
    "\n",
    "a *= 2\n",
    "print(\"a = \", a)"
   ]
  },
  {
   "cell_type": "markdown",
   "metadata": {},
   "source": [
    "----------------\n",
    "Python Array"
   ]
  },
  {
   "cell_type": "code",
   "execution_count": 4,
   "metadata": {
    "scrolled": true
   },
   "outputs": [
    {
     "name": "stdout",
     "output_type": "stream",
     "text": [
      "a    =  [1, 2, 3, 4, 5, 6, 7]\n",
      "a[0] =  1\n",
      "a[1:3] =  [2, 3]\n",
      "a[0:2]+a[4:6] =  [1, 2, 5, 6]\n",
      "b    =  7\n"
     ]
    }
   ],
   "source": [
    "a = [1,2,3,4,5,6,7]\n",
    "print(\"a    = \", a)\n",
    "print(\"a[0] = \", a[0])\n",
    "print(\"a[1:3] = \", a[1:3])\n",
    "print(\"a[0:2]+a[4:6] = \", a[0:2]+a[4:6])\n",
    "\n",
    "b = len(a)\n",
    "print(\"b    = \", b)"
   ]
  },
  {
   "cell_type": "markdown",
   "metadata": {},
   "source": [
    "--------------\n",
    "NumPy (https://numpy.org/) is a package for scientific computing, and it offers comprehensive mathematical functions."
   ]
  },
  {
   "cell_type": "code",
   "execution_count": 5,
   "metadata": {},
   "outputs": [
    {
     "name": "stdout",
     "output_type": "stream",
     "text": [
      "a   =  [1, 2, 3, 4]\n",
      "a*2 =  [1, 2, 3, 4, 1, 2, 3, 4]\n",
      "b   =  [1 2 3 4]\n",
      "b*2 =  [2 4 6 8]\n"
     ]
    }
   ],
   "source": [
    "a = [1,2,3,4]\n",
    "print(\"a   = \",  a)\n",
    "print(\"a*2 = \", a*2)\n",
    "\n",
    "import numpy as np\n",
    "\n",
    "b = np.array( [1,2,3,4] )\n",
    "print(\"b   = \", b)\n",
    "print(\"b*2 = \", b*2)"
   ]
  },
  {
   "cell_type": "code",
   "execution_count": 6,
   "metadata": {},
   "outputs": [
    {
     "name": "stdout",
     "output_type": "stream",
     "text": [
      "a+2 =  [3 4 5 6 7]\n",
      "a*2 =  [ 2  4  6  8 10]\n",
      "a/2 =  [0.5 1.  1.5 2.  2.5]\n"
     ]
    }
   ],
   "source": [
    "import numpy as np\n",
    "\n",
    "a = np.array( [1,2,3,4,5] )\n",
    "print(\"a+2 = \", a+2)\n",
    "print(\"a*2 = \", a*2)\n",
    "print(\"a/2 = \", a/2)"
   ]
  },
  {
   "cell_type": "code",
   "execution_count": 7,
   "metadata": {},
   "outputs": [
    {
     "name": "stdout",
     "output_type": "stream",
     "text": [
      "a =  [1. 1. 1. 1. 1.]\n",
      "b = \n",
      " [[1. 1. 1.]\n",
      " [1. 1. 1.]]\n"
     ]
    }
   ],
   "source": [
    "import numpy as np\n",
    "\n",
    "a = np.ones(5)\n",
    "print(\"a = \", a)\n",
    "\n",
    "b = np.ones((2,3))\n",
    "print(\"b = \\n\", b)"
   ]
  },
  {
   "cell_type": "code",
   "execution_count": 8,
   "metadata": {},
   "outputs": [
    {
     "name": "stdout",
     "output_type": "stream",
     "text": [
      "a =  [0. 0. 0. 0. 0.]\n",
      "b =  [0 1 2 3 4]\n"
     ]
    }
   ],
   "source": [
    "import numpy as np\n",
    "\n",
    "a = np.zeros(5)\n",
    "print(\"a = \", a)\n",
    "\n",
    "b = np.arange(5)\n",
    "print(\"b = \", b)"
   ]
  },
  {
   "cell_type": "code",
   "execution_count": 9,
   "metadata": {},
   "outputs": [
    {
     "name": "stdout",
     "output_type": "stream",
     "text": [
      "a =  [ 0  1  2  3  4  5  6  7  8  9 10 11]\n",
      "b =  [ 4  5  6  7  8  9 10 11]\n",
      "c =  [ 4  6  8 10]\n",
      "d =  [ 4  7 10]\n",
      "e =  [ 4. 12.]\n",
      "f =  [ 4.  8. 12.]\n"
     ]
    }
   ],
   "source": [
    "import numpy as np\n",
    "\n",
    "a = np.arange(12)\n",
    "print(\"a = \", a)\n",
    "\n",
    "b = np.arange(4,12)\n",
    "print(\"b = \", b)\n",
    "\n",
    "c = np.arange(4,12,2)\n",
    "print(\"c = \", c)\n",
    "\n",
    "d = np.arange(4,12,3)\n",
    "print(\"d = \", d)\n",
    "\n",
    "e = np.linspace(4, 12, 2)\n",
    "print(\"e = \", e)\n",
    "\n",
    "f = np.linspace(4, 12, 3)\n",
    "print(\"f = \", f)"
   ]
  },
  {
   "cell_type": "code",
   "execution_count": 10,
   "metadata": {},
   "outputs": [
    {
     "name": "stdout",
     "output_type": "stream",
     "text": [
      "a = \n",
      " [[1 2 3]\n",
      " [4 5 6]]\n",
      "b = \n",
      " [[1 4]\n",
      " [2 5]\n",
      " [3 6]]\n",
      "c = \n",
      " [[1 2]\n",
      " [3 4]\n",
      " [5 6]]\n",
      "d = \n",
      " [1 2 3 4 5 6]\n"
     ]
    }
   ],
   "source": [
    "import numpy as np\n",
    "\n",
    "a = np.array( [[1,2,3],[4,5,6]] )\n",
    "print(\"a = \\n\", a)\n",
    "\n",
    "b = a.T\n",
    "print(\"b = \\n\", b)\n",
    "\n",
    "c = a.reshape(3, 2)\n",
    "print(\"c = \\n\", c)\n",
    "\n",
    "d = a.flatten()\n",
    "print(\"d = \\n\", d)"
   ]
  },
  {
   "cell_type": "code",
   "execution_count": 11,
   "metadata": {},
   "outputs": [
    {
     "name": "stdout",
     "output_type": "stream",
     "text": [
      "a =  [1, 2, 3, 4, 5]\n",
      "b =  15\n"
     ]
    }
   ],
   "source": [
    "import numpy as np\n",
    "\n",
    "a = [1,2,3,4,5]\n",
    "print(\"a = \", a)\n",
    "\n",
    "b = np.sum(a)\n",
    "print(\"b = \", b)"
   ]
  },
  {
   "cell_type": "code",
   "execution_count": 12,
   "metadata": {},
   "outputs": [
    {
     "name": "stdout",
     "output_type": "stream",
     "text": [
      "a =  3.141592653589793\n",
      "b =  3.0\n"
     ]
    }
   ],
   "source": [
    "import numpy as np\n",
    "\n",
    "a = np.pi\n",
    "print(\"a = \", a)\n",
    "\n",
    "b = np.sqrt(9)\n",
    "print(\"b = \", b)"
   ]
  },
  {
   "cell_type": "markdown",
   "metadata": {},
   "source": [
    "----------------------\n",
    "Python For Loops "
   ]
  },
  {
   "cell_type": "code",
   "execution_count": 13,
   "metadata": {},
   "outputs": [
    {
     "name": "stdout",
     "output_type": "stream",
     "text": [
      "Loop 0\n",
      "Loop 1\n",
      "Loop 2\n",
      "Loop 3\n",
      "Loop 4\n"
     ]
    }
   ],
   "source": [
    "for x in range(5):\n",
    "    print(\"Loop\", x)"
   ]
  },
  {
   "cell_type": "code",
   "execution_count": 14,
   "metadata": {},
   "outputs": [
    {
     "name": "stdout",
     "output_type": "stream",
     "text": [
      "red\n",
      "green\n",
      "blue\n"
     ]
    }
   ],
   "source": [
    "for x in [\"red\", \"green\", \"blue\"]:\n",
    "    print(x)"
   ]
  },
  {
   "cell_type": "markdown",
   "metadata": {},
   "source": [
    "-----------------------------\n",
    "* Python Comparison Operators"
   ]
  },
  {
   "cell_type": "code",
   "execution_count": 15,
   "metadata": {},
   "outputs": [
    {
     "name": "stdout",
     "output_type": "stream",
     "text": [
      "3==3:  True\n",
      "3!=1:  True\n",
      "1==3:  False\n",
      "1!=3:  True\n",
      "1<3 :  True\n",
      "3<3 :  False\n",
      "3<=3:  True\n",
      "1>3 :  False\n"
     ]
    }
   ],
   "source": [
    "print(\"3==3: \", 3==3)\n",
    "print(\"3!=1: \", 3!=1)\n",
    "print(\"1==3: \", 1==3)\n",
    "print(\"1!=3: \", 1!=3)\n",
    "print(\"1<3 : \", 1<3)\n",
    "print(\"3<3 : \", 3<3)\n",
    "print(\"3<=3: \", 3<=3)\n",
    "print(\"1>3 : \", 1>3)"
   ]
  },
  {
   "cell_type": "code",
   "execution_count": null,
   "metadata": {
    "collapsed": true
   },
   "outputs": [],
   "source": [
    "import numpy as np\n",
    "\n",
    "a = np.array( [1,2,3,4,5] )\n",
    "print(\"a = \", a)\n",
    "print(\"a > 3 :\", a > 3)\n",
    "\n",
    "b = np."
   ]
  },
  {
   "cell_type": "markdown",
   "metadata": {},
   "source": [
    "-----------------\n",
    "* Python IF...ELIF...ELSE Statement"
   ]
  },
  {
   "cell_type": "code",
   "execution_count": 16,
   "metadata": {},
   "outputs": [
    {
     "name": "stdout",
     "output_type": "stream",
     "text": [
      "a =  3\n",
      "(if -> ) a*2 =  6\n"
     ]
    }
   ],
   "source": [
    "a = 3\n",
    "print(\"a = \",a)\n",
    "\n",
    "if a == 3:\n",
    "    print(\"(if -> ) a*2 = \", a*2)\n",
    "else:\n",
    "    print(\"(else -> ) a*3 = \", a*3)"
   ]
  },
  {
   "cell_type": "code",
   "execution_count": 17,
   "metadata": {},
   "outputs": [
    {
     "name": "stdout",
     "output_type": "stream",
     "text": [
      "a =  5\n",
      "(else -> ) a*4 =  20\n"
     ]
    }
   ],
   "source": [
    "a = 5\n",
    "print(\"a = \",a)\n",
    "\n",
    "if a == 3:\n",
    "    print(\"(if -> ) a*2 = \", a*2)\n",
    "elif (a > 3) and (a <= 4):\n",
    "    print(\"(elif -> ) a*3 = \", a*3)\n",
    "else:\n",
    "    print(\"(else -> ) a*4 = \", a*4)"
   ]
  }
 ],
 "metadata": {
  "kernelspec": {
   "display_name": "Python 3",
   "language": "python",
   "name": "python3"
  },
  "language_info": {
   "codemirror_mode": {
    "name": "ipython",
    "version": 3
   },
   "file_extension": ".py",
   "mimetype": "text/x-python",
   "name": "python",
   "nbconvert_exporter": "python",
   "pygments_lexer": "ipython3",
   "version": "3.6.7"
  }
 },
 "nbformat": 4,
 "nbformat_minor": 2
}
